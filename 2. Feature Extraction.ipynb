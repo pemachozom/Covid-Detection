{
 "cells": [
  {
   "cell_type": "code",
   "execution_count": null,
   "id": "3d3b8f42",
   "metadata": {},
   "outputs": [],
   "source": []
  },
  {
   "cell_type": "code",
   "execution_count": 16,
   "id": "3ae0b608",
   "metadata": {},
   "outputs": [],
   "source": [
    "import os\n",
    "import cv2\n",
    "import numpy as np"
   ]
  },
  {
   "cell_type": "code",
   "execution_count": 17,
   "id": "bca382f4",
   "metadata": {},
   "outputs": [],
   "source": [
    "def extract_features_from_covidfolder(covid_folder_path):\n",
    "    covid_features = []\n",
    "    covid_file_names = []\n",
    "\n",
    "    # Iterate over each file in the folder\n",
    "    for file_name in os.listdir(covid_folder_path):\n",
    "        covid_file_path = os.path.join(covid_folder_path, file_name)\n",
    "\n",
    "        # Read the image using OpenCV\n",
    "        image = cv2.imread(covid_file_path, cv2.IMREAD_GRAYSCALE)\n",
    "\n",
    "        # Convert the image to a 1D array\n",
    "        image_array = np.array(image).flatten()\n",
    "\n",
    "        # Append the image array and file name to the features list\n",
    "        covid_features.append(image_array)\n",
    "        covid_file_names.append(file_name)\n",
    "\n",
    "    return covid_features, covid_file_names\n"
   ]
  },
  {
   "cell_type": "code",
   "execution_count": 18,
   "id": "f1cae1eb",
   "metadata": {},
   "outputs": [
    {
     "ename": "error",
     "evalue": "OpenCV(4.7.0) D:\\a\\opencv-python\\opencv-python\\opencv\\modules\\core\\src\\alloc.cpp:73: error: (-4:Insufficient memory) Failed to allocate 9430400 bytes in function 'cv::OutOfMemoryError'\n",
     "output_type": "error",
     "traceback": [
      "\u001b[1;31m---------------------------------------------------------------------------\u001b[0m",
      "\u001b[1;31merror\u001b[0m                                     Traceback (most recent call last)",
      "Cell \u001b[1;32mIn[18], line 2\u001b[0m\n\u001b[0;32m      1\u001b[0m covid_folder_path \u001b[38;5;241m=\u001b[39m \u001b[38;5;124m'\u001b[39m\u001b[38;5;124mC:/Users/User/ML project/COVID19-xray/COVID\u001b[39m\u001b[38;5;124m'\u001b[39m\n\u001b[1;32m----> 2\u001b[0m covid_features, covid_file_names \u001b[38;5;241m=\u001b[39m \u001b[43mextract_features_from_covidfolder\u001b[49m\u001b[43m(\u001b[49m\u001b[43mcovid_folder_path\u001b[49m\u001b[43m)\u001b[49m\n\u001b[0;32m      3\u001b[0m covid_features\n",
      "Cell \u001b[1;32mIn[17], line 10\u001b[0m, in \u001b[0;36mextract_features_from_covidfolder\u001b[1;34m(covid_folder_path)\u001b[0m\n\u001b[0;32m      7\u001b[0m covid_file_path \u001b[38;5;241m=\u001b[39m os\u001b[38;5;241m.\u001b[39mpath\u001b[38;5;241m.\u001b[39mjoin(covid_folder_path, file_name)\n\u001b[0;32m      9\u001b[0m \u001b[38;5;66;03m# Read the image using OpenCV\u001b[39;00m\n\u001b[1;32m---> 10\u001b[0m image \u001b[38;5;241m=\u001b[39m \u001b[43mcv2\u001b[49m\u001b[38;5;241;43m.\u001b[39;49m\u001b[43mimread\u001b[49m\u001b[43m(\u001b[49m\u001b[43mcovid_file_path\u001b[49m\u001b[43m,\u001b[49m\u001b[43m \u001b[49m\u001b[43mcv2\u001b[49m\u001b[38;5;241;43m.\u001b[39;49m\u001b[43mIMREAD_GRAYSCALE\u001b[49m\u001b[43m)\u001b[49m\n\u001b[0;32m     12\u001b[0m \u001b[38;5;66;03m# Convert the image to a 1D array\u001b[39;00m\n\u001b[0;32m     13\u001b[0m image_array \u001b[38;5;241m=\u001b[39m np\u001b[38;5;241m.\u001b[39marray(image)\u001b[38;5;241m.\u001b[39mflatten()\n",
      "\u001b[1;31merror\u001b[0m: OpenCV(4.7.0) D:\\a\\opencv-python\\opencv-python\\opencv\\modules\\core\\src\\alloc.cpp:73: error: (-4:Insufficient memory) Failed to allocate 9430400 bytes in function 'cv::OutOfMemoryError'\n"
     ]
    }
   ],
   "source": [
    "covid_folder_path = 'C:/Users/User/ML project/COVID19-xray/COVID'\n",
    "covid_features, covid_file_names = extract_features_from_covidfolder(covid_folder_path)\n",
    "covid_features\n"
   ]
  },
  {
   "cell_type": "code",
   "execution_count": 13,
   "id": "5408a99b",
   "metadata": {},
   "outputs": [
    {
     "ename": "MemoryError",
     "evalue": "Unable to allocate 71.9 MiB for an array with shape (3368, 2800) and data type float64",
     "output_type": "error",
     "traceback": [
      "\u001b[1;31m---------------------------------------------------------------------------\u001b[0m",
      "\u001b[1;31mMemoryError\u001b[0m                               Traceback (most recent call last)",
      "Cell \u001b[1;32mIn[13], line 34\u001b[0m\n\u001b[0;32m     31\u001b[0m folder_path \u001b[38;5;241m=\u001b[39m \u001b[38;5;124m'\u001b[39m\u001b[38;5;124mC:/Users/User/ML project/COVID19-xray/COVID\u001b[39m\u001b[38;5;124m'\u001b[39m\n\u001b[0;32m     33\u001b[0m \u001b[38;5;66;03m# Call the function to extract pixel features\u001b[39;00m\n\u001b[1;32m---> 34\u001b[0m df \u001b[38;5;241m=\u001b[39m \u001b[43mextract_pixel_features\u001b[49m\u001b[43m(\u001b[49m\u001b[43mfolder_path\u001b[49m\u001b[43m)\u001b[49m\n\u001b[0;32m     36\u001b[0m \u001b[38;5;66;03m# Display the DataFrame\u001b[39;00m\n\u001b[0;32m     37\u001b[0m \u001b[38;5;28mprint\u001b[39m(df\u001b[38;5;241m.\u001b[39mhead())\n",
      "Cell \u001b[1;32mIn[13], line 15\u001b[0m, in \u001b[0;36mextract_pixel_features\u001b[1;34m(folder_path)\u001b[0m\n\u001b[0;32m     12\u001b[0m file_path \u001b[38;5;241m=\u001b[39m os\u001b[38;5;241m.\u001b[39mpath\u001b[38;5;241m.\u001b[39mjoin(folder_path, file_name)\n\u001b[0;32m     14\u001b[0m \u001b[38;5;66;03m# Read the image using skimage\u001b[39;00m\n\u001b[1;32m---> 15\u001b[0m image \u001b[38;5;241m=\u001b[39m \u001b[43mimread\u001b[49m\u001b[43m(\u001b[49m\u001b[43mfile_path\u001b[49m\u001b[43m,\u001b[49m\u001b[43m \u001b[49m\u001b[43mas_gray\u001b[49m\u001b[38;5;241;43m=\u001b[39;49m\u001b[38;5;28;43;01mTrue\u001b[39;49;00m\u001b[43m)\u001b[49m\n\u001b[0;32m     17\u001b[0m \u001b[38;5;66;03m# Reshape the image to a 1D array\u001b[39;00m\n\u001b[0;32m     18\u001b[0m image_array \u001b[38;5;241m=\u001b[39m np\u001b[38;5;241m.\u001b[39mreshape(image, \u001b[38;5;241m-\u001b[39m\u001b[38;5;241m1\u001b[39m)\n",
      "File \u001b[1;32m~\\anaconda3\\lib\\site-packages\\skimage\\io\\_io.py:66\u001b[0m, in \u001b[0;36mimread\u001b[1;34m(fname, as_gray, plugin, **plugin_args)\u001b[0m\n\u001b[0;32m     64\u001b[0m         \u001b[38;5;28;01mif\u001b[39;00m img\u001b[38;5;241m.\u001b[39mshape[\u001b[38;5;241m2\u001b[39m] \u001b[38;5;241m==\u001b[39m \u001b[38;5;241m4\u001b[39m:\n\u001b[0;32m     65\u001b[0m             img \u001b[38;5;241m=\u001b[39m rgba2rgb(img)\n\u001b[1;32m---> 66\u001b[0m         img \u001b[38;5;241m=\u001b[39m \u001b[43mrgb2gray\u001b[49m\u001b[43m(\u001b[49m\u001b[43mimg\u001b[49m\u001b[43m)\u001b[49m\n\u001b[0;32m     68\u001b[0m \u001b[38;5;28;01mreturn\u001b[39;00m img\n",
      "File \u001b[1;32m~\\anaconda3\\lib\\site-packages\\skimage\\_shared\\utils.py:394\u001b[0m, in \u001b[0;36mchannel_as_last_axis.__call__.<locals>.fixed_func\u001b[1;34m(*args, **kwargs)\u001b[0m\n\u001b[0;32m    391\u001b[0m channel_axis \u001b[38;5;241m=\u001b[39m kwargs\u001b[38;5;241m.\u001b[39mget(\u001b[38;5;124m'\u001b[39m\u001b[38;5;124mchannel_axis\u001b[39m\u001b[38;5;124m'\u001b[39m, \u001b[38;5;28;01mNone\u001b[39;00m)\n\u001b[0;32m    393\u001b[0m \u001b[38;5;28;01mif\u001b[39;00m channel_axis \u001b[38;5;129;01mis\u001b[39;00m \u001b[38;5;28;01mNone\u001b[39;00m:\n\u001b[1;32m--> 394\u001b[0m     \u001b[38;5;28;01mreturn\u001b[39;00m func(\u001b[38;5;241m*\u001b[39margs, \u001b[38;5;241m*\u001b[39m\u001b[38;5;241m*\u001b[39mkwargs)\n\u001b[0;32m    396\u001b[0m \u001b[38;5;66;03m# TODO: convert scalars to a tuple in anticipation of eventually\u001b[39;00m\n\u001b[0;32m    397\u001b[0m \u001b[38;5;66;03m#       supporting a tuple of channel axes. Right now, only an\u001b[39;00m\n\u001b[0;32m    398\u001b[0m \u001b[38;5;66;03m#       integer or a single-element tuple is supported, though.\u001b[39;00m\n\u001b[0;32m    399\u001b[0m \u001b[38;5;28;01mif\u001b[39;00m np\u001b[38;5;241m.\u001b[39misscalar(channel_axis):\n",
      "File \u001b[1;32m~\\anaconda3\\lib\\site-packages\\skimage\\color\\colorconv.py:877\u001b[0m, in \u001b[0;36mrgb2gray\u001b[1;34m(rgb, channel_axis)\u001b[0m\n\u001b[0;32m    875\u001b[0m rgb \u001b[38;5;241m=\u001b[39m _prepare_colorarray(rgb)\n\u001b[0;32m    876\u001b[0m coeffs \u001b[38;5;241m=\u001b[39m np\u001b[38;5;241m.\u001b[39marray([\u001b[38;5;241m0.2125\u001b[39m, \u001b[38;5;241m0.7154\u001b[39m, \u001b[38;5;241m0.0721\u001b[39m], dtype\u001b[38;5;241m=\u001b[39mrgb\u001b[38;5;241m.\u001b[39mdtype)\n\u001b[1;32m--> 877\u001b[0m \u001b[38;5;28;01mreturn\u001b[39;00m \u001b[43mrgb\u001b[49m\u001b[43m \u001b[49m\u001b[38;5;241;43m@\u001b[39;49m\u001b[43m \u001b[49m\u001b[43mcoeffs\u001b[49m\n",
      "\u001b[1;31mMemoryError\u001b[0m: Unable to allocate 71.9 MiB for an array with shape (3368, 2800) and data type float64"
     ]
    }
   ],
   "source": [
    "import os\n",
    "import pandas as pd\n",
    "import numpy as np\n",
    "from skimage.io import imread\n",
    "\n",
    "def extract_pixel_features(folder_path):\n",
    "    data = []\n",
    "    file_names = []\n",
    "\n",
    "    # Iterate over each file in the folder\n",
    "    for file_name in os.listdir(folder_path):\n",
    "        file_path = os.path.join(folder_path, file_name)\n",
    "\n",
    "        # Read the image using skimage\n",
    "        image = imread(file_path, as_gray=True)\n",
    "\n",
    "        # Reshape the image to a 1D array\n",
    "        image_array = np.reshape(image, -1)\n",
    "\n",
    "        # Append the image array and file name to the data list\n",
    "        data.append(image_array)\n",
    "        file_names.append(file_name)\n",
    "\n",
    "    # Create a pandas DataFrame from the data\n",
    "    df = pd.DataFrame(data)\n",
    "    df['file_name'] = file_names\n",
    "\n",
    "    return df\n",
    "\n",
    "# Provide the path to the folder containing the images\n",
    "folder_path = 'C:/Users/User/ML project/COVID19-xray/COVID'\n",
    "\n",
    "# Call the function to extract pixel features\n",
    "df = extract_pixel_features(folder_path)\n",
    "\n",
    "# Display the DataFrame\n",
    "print(df.head())\n"
   ]
  },
  {
   "cell_type": "code",
   "execution_count": 14,
   "id": "1353326a",
   "metadata": {},
   "outputs": [
    {
     "ename": "MemoryError",
     "evalue": "Unable to allocate 113. MiB for an array with shape (3480, 4248) and data type float64",
     "output_type": "error",
     "traceback": [
      "\u001b[1;31m---------------------------------------------------------------------------\u001b[0m",
      "\u001b[1;31mMemoryError\u001b[0m                               Traceback (most recent call last)",
      "Cell \u001b[1;32mIn[14], line 49\u001b[0m\n\u001b[0;32m     47\u001b[0m \u001b[38;5;66;03m# Call the function to extract pixel features\u001b[39;00m\n\u001b[0;32m     48\u001b[0m df_list \u001b[38;5;241m=\u001b[39m []\n\u001b[1;32m---> 49\u001b[0m \u001b[38;5;28;01mfor\u001b[39;00m batch_df \u001b[38;5;129;01min\u001b[39;00m extract_pixel_features(folder_path):\n\u001b[0;32m     50\u001b[0m     df_list\u001b[38;5;241m.\u001b[39mappend(batch_df)\n\u001b[0;32m     52\u001b[0m \u001b[38;5;66;03m# Concatenate the batches into a single DataFrame\u001b[39;00m\n",
      "Cell \u001b[1;32mIn[14], line 16\u001b[0m, in \u001b[0;36mextract_pixel_features\u001b[1;34m(folder_path, batch_size)\u001b[0m\n\u001b[0;32m     13\u001b[0m file_path \u001b[38;5;241m=\u001b[39m os\u001b[38;5;241m.\u001b[39mpath\u001b[38;5;241m.\u001b[39mjoin(folder_path, file_name)\n\u001b[0;32m     15\u001b[0m \u001b[38;5;66;03m# Read the image using skimage\u001b[39;00m\n\u001b[1;32m---> 16\u001b[0m image \u001b[38;5;241m=\u001b[39m \u001b[43mimread\u001b[49m\u001b[43m(\u001b[49m\u001b[43mfile_path\u001b[49m\u001b[43m,\u001b[49m\u001b[43m \u001b[49m\u001b[43mas_gray\u001b[49m\u001b[38;5;241;43m=\u001b[39;49m\u001b[38;5;28;43;01mTrue\u001b[39;49;00m\u001b[43m)\u001b[49m\n\u001b[0;32m     18\u001b[0m \u001b[38;5;66;03m# Resize the image to a smaller resolution\u001b[39;00m\n\u001b[0;32m     19\u001b[0m image \u001b[38;5;241m=\u001b[39m resize(image, (\u001b[38;5;241m100\u001b[39m, \u001b[38;5;241m100\u001b[39m))\n",
      "File \u001b[1;32m~\\anaconda3\\lib\\site-packages\\skimage\\io\\_io.py:66\u001b[0m, in \u001b[0;36mimread\u001b[1;34m(fname, as_gray, plugin, **plugin_args)\u001b[0m\n\u001b[0;32m     64\u001b[0m         \u001b[38;5;28;01mif\u001b[39;00m img\u001b[38;5;241m.\u001b[39mshape[\u001b[38;5;241m2\u001b[39m] \u001b[38;5;241m==\u001b[39m \u001b[38;5;241m4\u001b[39m:\n\u001b[0;32m     65\u001b[0m             img \u001b[38;5;241m=\u001b[39m rgba2rgb(img)\n\u001b[1;32m---> 66\u001b[0m         img \u001b[38;5;241m=\u001b[39m \u001b[43mrgb2gray\u001b[49m\u001b[43m(\u001b[49m\u001b[43mimg\u001b[49m\u001b[43m)\u001b[49m\n\u001b[0;32m     68\u001b[0m \u001b[38;5;28;01mreturn\u001b[39;00m img\n",
      "File \u001b[1;32m~\\anaconda3\\lib\\site-packages\\skimage\\_shared\\utils.py:394\u001b[0m, in \u001b[0;36mchannel_as_last_axis.__call__.<locals>.fixed_func\u001b[1;34m(*args, **kwargs)\u001b[0m\n\u001b[0;32m    391\u001b[0m channel_axis \u001b[38;5;241m=\u001b[39m kwargs\u001b[38;5;241m.\u001b[39mget(\u001b[38;5;124m'\u001b[39m\u001b[38;5;124mchannel_axis\u001b[39m\u001b[38;5;124m'\u001b[39m, \u001b[38;5;28;01mNone\u001b[39;00m)\n\u001b[0;32m    393\u001b[0m \u001b[38;5;28;01mif\u001b[39;00m channel_axis \u001b[38;5;129;01mis\u001b[39;00m \u001b[38;5;28;01mNone\u001b[39;00m:\n\u001b[1;32m--> 394\u001b[0m     \u001b[38;5;28;01mreturn\u001b[39;00m func(\u001b[38;5;241m*\u001b[39margs, \u001b[38;5;241m*\u001b[39m\u001b[38;5;241m*\u001b[39mkwargs)\n\u001b[0;32m    396\u001b[0m \u001b[38;5;66;03m# TODO: convert scalars to a tuple in anticipation of eventually\u001b[39;00m\n\u001b[0;32m    397\u001b[0m \u001b[38;5;66;03m#       supporting a tuple of channel axes. Right now, only an\u001b[39;00m\n\u001b[0;32m    398\u001b[0m \u001b[38;5;66;03m#       integer or a single-element tuple is supported, though.\u001b[39;00m\n\u001b[0;32m    399\u001b[0m \u001b[38;5;28;01mif\u001b[39;00m np\u001b[38;5;241m.\u001b[39misscalar(channel_axis):\n",
      "File \u001b[1;32m~\\anaconda3\\lib\\site-packages\\skimage\\color\\colorconv.py:877\u001b[0m, in \u001b[0;36mrgb2gray\u001b[1;34m(rgb, channel_axis)\u001b[0m\n\u001b[0;32m    875\u001b[0m rgb \u001b[38;5;241m=\u001b[39m _prepare_colorarray(rgb)\n\u001b[0;32m    876\u001b[0m coeffs \u001b[38;5;241m=\u001b[39m np\u001b[38;5;241m.\u001b[39marray([\u001b[38;5;241m0.2125\u001b[39m, \u001b[38;5;241m0.7154\u001b[39m, \u001b[38;5;241m0.0721\u001b[39m], dtype\u001b[38;5;241m=\u001b[39mrgb\u001b[38;5;241m.\u001b[39mdtype)\n\u001b[1;32m--> 877\u001b[0m \u001b[38;5;28;01mreturn\u001b[39;00m \u001b[43mrgb\u001b[49m\u001b[43m \u001b[49m\u001b[38;5;241;43m@\u001b[39;49m\u001b[43m \u001b[49m\u001b[43mcoeffs\u001b[49m\n",
      "\u001b[1;31mMemoryError\u001b[0m: Unable to allocate 113. MiB for an array with shape (3480, 4248) and data type float64"
     ]
    }
   ],
   "source": [
    "import os\n",
    "import pandas as pd\n",
    "import numpy as np\n",
    "from skimage.io import imread\n",
    "from skimage.transform import resize\n",
    "\n",
    "def extract_pixel_features(folder_path, batch_size=100):\n",
    "    data = []\n",
    "    file_names = []\n",
    "\n",
    "    # Iterate over each file in the folder\n",
    "    for file_name in os.listdir(folder_path):\n",
    "        file_path = os.path.join(folder_path, file_name)\n",
    "\n",
    "        # Read the image using skimage\n",
    "        image = imread(file_path, as_gray=True)\n",
    "\n",
    "        # Resize the image to a smaller resolution\n",
    "        image = resize(image, (100, 100))\n",
    "\n",
    "        # Reshape the image to a 1D array\n",
    "        image_array = np.reshape(image, -1)\n",
    "\n",
    "        # Append the image array and file name to the data list\n",
    "        data.append(image_array)\n",
    "        file_names.append(file_name)\n",
    "\n",
    "        # Process the batch if it reaches the specified size\n",
    "        if len(data) >= batch_size:\n",
    "            df_batch = pd.DataFrame(data)\n",
    "            df_batch['file_name'] = file_names\n",
    "            yield df_batch\n",
    "\n",
    "            # Reset the data and file_names lists for the next batch\n",
    "            data = []\n",
    "            file_names = []\n",
    "\n",
    "    # Process the remaining images as the last batch\n",
    "    if len(data) > 0:\n",
    "        df_batch = pd.DataFrame(data)\n",
    "        df_batch['file_name'] = file_names\n",
    "        yield df_batch\n",
    "\n",
    "# Provide the path to the folder containing the images\n",
    "folder_path = 'C:/Users/User/ML project/COVID19-xray/COVID'\n",
    "\n",
    "# Call the function to extract pixel features\n",
    "df_list = []\n",
    "for batch_df in extract_pixel_features(folder_path):\n",
    "    df_list.append(batch_df)\n",
    "\n",
    "# Concatenate the batches into a single DataFrame\n",
    "df = pd.concat(df_list)\n",
    "\n",
    "# Display the DataFrame\n",
    "print(df.head())\n"
   ]
  },
  {
   "cell_type": "code",
   "execution_count": null,
   "id": "905ab2ba",
   "metadata": {},
   "outputs": [],
   "source": []
  }
 ],
 "metadata": {
  "kernelspec": {
   "display_name": "Python 3 (ipykernel)",
   "language": "python",
   "name": "python3"
  },
  "language_info": {
   "codemirror_mode": {
    "name": "ipython",
    "version": 3
   },
   "file_extension": ".py",
   "mimetype": "text/x-python",
   "name": "python",
   "nbconvert_exporter": "python",
   "pygments_lexer": "ipython3",
   "version": "3.10.9"
  }
 },
 "nbformat": 4,
 "nbformat_minor": 5
}
