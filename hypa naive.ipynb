{
 "cells": [
  {
   "cell_type": "code",
   "execution_count": 1,
   "id": "dcf223b9",
   "metadata": {},
   "outputs": [],
   "source": [
    "import os # to read and load data\n",
    "import cv2\n",
    "import numpy as np\n",
    "from sklearn.model_selection import train_test_split"
   ]
  },
  {
   "cell_type": "code",
   "execution_count": 2,
   "id": "c49d7825",
   "metadata": {},
   "outputs": [],
   "source": [
    "def preprocess_images(img):\n",
    "    img = cv2.resize(img, (224, 224))\n",
    "    img = cv2.cvtColor(img, cv2.COLOR_BGR2GRAY)\n",
    "    img = img / 255.0\n",
    "    img = img.flatten()\n",
    "    return img"
   ]
  },
  {
   "cell_type": "code",
   "execution_count": 3,
   "id": "38b38175",
   "metadata": {},
   "outputs": [],
   "source": [
    "data = []\n",
    "labels = []\n",
    "\n",
    "covid_folder_path = \"C:/Users/User/ML project/COVID19-xray/COVID\"\n",
    "for filename in os.listdir(covid_folder_path):\n",
    "    img_path = os.path.join(covid_folder_path, filename)\n",
    "    img = cv2.imread(img_path)\n",
    "    img = preprocess_images(img)\n",
    "    data.append(img)\n",
    "    labels.append(1)"
   ]
  },
  {
   "cell_type": "code",
   "execution_count": 4,
   "id": "fb563d79",
   "metadata": {},
   "outputs": [],
   "source": [
    "normal_folder_path = \"C:/Users/User/ML project/NORMALXray/NORMALc\"\n",
    "for filename in os.listdir(normal_folder_path):\n",
    "    img_path = os.path.join(normal_folder_path, filename)\n",
    "    img = cv2.imread(img_path)\n",
    "    img = preprocess_images(img)\n",
    "    data.append(img)\n",
    "    labels.append(0)\n",
    "\n"
   ]
  },
  {
   "cell_type": "code",
   "execution_count": 5,
   "id": "21a68259",
   "metadata": {},
   "outputs": [],
   "source": [
    "data = np.array(data)\n",
    "labels = np.array(labels)"
   ]
  },
  {
   "cell_type": "code",
   "execution_count": 6,
   "id": "3721f8c0",
   "metadata": {},
   "outputs": [],
   "source": [
    "X_train, X_test, y_train, y_test = train_test_split(data, labels, test_size=0.2, random_state=44)"
   ]
  },
  {
   "cell_type": "code",
   "execution_count": 12,
   "id": "c205acd9",
   "metadata": {},
   "outputs": [],
   "source": [
    "from sklearn.model_selection import GridSearchCV\n",
    "from sklearn.naive_bayes import GaussianNB\n",
    "from sklearn.feature_selection import SelectKBest,chi2\n",
    "from sklearn.pipeline import Pipeline\n"
   ]
  },
  {
   "cell_type": "code",
   "execution_count": 14,
   "id": "f6e86a8d",
   "metadata": {},
   "outputs": [],
   "source": [
    "kbest = SelectKBest(chi2)\n",
    "nb = GaussianNB()"
   ]
  },
  {
   "cell_type": "code",
   "execution_count": 15,
   "id": "47c68c50",
   "metadata": {},
   "outputs": [],
   "source": [
    "param_grid = {\n",
    "    'kbest__k': range(1, X_train.shape[1] + 1),\n",
    "    'nb__var_smoothing': [1e-9, 1e-8, 1e-7]\n",
    "}"
   ]
  },
  {
   "cell_type": "code",
   "execution_count": 31,
   "id": "3e00db05",
   "metadata": {},
   "outputs": [],
   "source": [
    "pipeline = Pipeline([\n",
    "    ('kbest', kbest),\n",
    "    ('Nb', nb)\n",
    "])\n"
   ]
  },
  {
   "cell_type": "code",
   "execution_count": 56,
   "id": "b9fb3d34",
   "metadata": {},
   "outputs": [],
   "source": [
    "# grid_search = GridSearchCV(pipeline, param_grid=param_grid, cv=5)\n",
    "# grid_search.fit(X_train, y_train)"
   ]
  },
  {
   "cell_type": "code",
   "execution_count": 54,
   "id": "ff894cb3",
   "metadata": {},
   "outputs": [
    {
     "name": "stdout",
     "output_type": "stream",
     "text": [
      "Fitting 5 folds for each of 20 candidates, totalling 100 fits\n"
     ]
    },
    {
     "data": {
      "text/plain": [
       "{'kbest__k': 5}"
      ]
     },
     "execution_count": 54,
     "metadata": {},
     "output_type": "execute_result"
    }
   ],
   "source": [
    "grid_search = GridSearchCV(estimator=pipeline, param_grid={'kbest__k':range(1, X_train.shape[1] + 1)},\n",
    "    n_jobs=-1,\n",
    "    scoring=\"neg_mean_squared_error\",\n",
    "    cv=5,\n",
    "    verbose=3)\n",
    "grid_search.fit(X_train,y_train).best_params_"
   ]
  },
  {
   "cell_type": "code",
   "execution_count": 55,
   "id": "cb50486a",
   "metadata": {},
   "outputs": [
    {
     "name": "stdout",
     "output_type": "stream",
     "text": [
      "Best Parameters: {'kbest__k': 5}\n",
      "Best Score: -0.5111111111111111\n"
     ]
    }
   ],
   "source": [
    "\n",
    "print(\"Best Parameters:\", grid_search.best_params_)\n",
    "print(\"Best Score:\", grid_search.best_score_)\n"
   ]
  },
  {
   "cell_type": "code",
   "execution_count": null,
   "id": "86f74704",
   "metadata": {},
   "outputs": [],
   "source": []
  },
  {
   "cell_type": "code",
   "execution_count": null,
   "id": "122281f2",
   "metadata": {},
   "outputs": [],
   "source": []
  }
 ],
 "metadata": {
  "kernelspec": {
   "display_name": "Python 3 (ipykernel)",
   "language": "python",
   "name": "python3"
  },
  "language_info": {
   "codemirror_mode": {
    "name": "ipython",
    "version": 3
   },
   "file_extension": ".py",
   "mimetype": "text/x-python",
   "name": "python",
   "nbconvert_exporter": "python",
   "pygments_lexer": "ipython3",
   "version": "3.10.9"
  }
 },
 "nbformat": 4,
 "nbformat_minor": 5
}
