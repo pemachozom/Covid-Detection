{
 "cells": [
  {
   "cell_type": "code",
   "execution_count": null,
   "metadata": {
    "id": "-blpCSofx6uY"
   },
   "outputs": [],
   "source": [
    "#@title\n",
    "import os\n",
    "import cv2\n",
    "import numpy as np\n",
    "from sklearn import svm\n",
    "from sklearn.model_selection import train_test_split\n",
    "from sklearn.metrics import classification_report, accuracy_score\n"
   ]
  },
  {
   "cell_type": "code",
   "execution_count": null,
   "metadata": {
    "colab": {
     "base_uri": "https://localhost:8080/"
    },
    "id": "itGI7cpwZK43",
    "outputId": "8d570695-8acd-4167-aabe-7d0d079137a4"
   },
   "outputs": [
    {
     "name": "stdout",
     "output_type": "stream",
     "text": [
      "Classification Report:\n",
      "              precision    recall  f1-score   support\n",
      "\n",
      "           0       0.99      0.99      0.99       388\n",
      "           1       0.99      0.98      0.98       260\n",
      "\n",
      "    accuracy                           0.99       648\n",
      "   macro avg       0.99      0.99      0.99       648\n",
      "weighted avg       0.99      0.99      0.99       648\n",
      "\n",
      "Accuracy: 98.77%\n"
     ]
    }
   ],
   "source": [
    "# Set up data and labels arrays\n",
    "data = []\n",
    "labels = []\n",
    "\n",
    "# Define function to preprocess images\n",
    "def preprocess_images(img):\n",
    "    # Resize image to fixed size of (224, 224)\n",
    "    img = cv2.resize(img, (224, 224))\n",
    "    # Convert image to grayscale\n",
    "    img = cv2.cvtColor(img, cv2.COLOR_BGR2GRAY)\n",
    "    # Normalize pixel values to [0, 1] range\n",
    "    img = img / 255.0\n",
    "    # Flatten image into a 1D array\n",
    "    img = img.flatten()\n",
    "    return img\n",
    "\n",
    "# Loop over \"covid\" folder and preprocess images\n",
    "folder_path = os.path.join(\"/content/drive/MyDrive/Dataset/COVID\")\n",
    "for filename in os.listdir(folder_path):\n",
    "    # Load image from file\n",
    "    img_path = os.path.join(folder_path, filename)\n",
    "    img = cv2.imread(img_path)\n",
    "    # Preprocess image and append to data and labels arrays\n",
    "    img = preprocess_images(img)\n",
    "    data.append(img)\n",
    "    labels.append(1)\n",
    "\n",
    "# Loop over \"normal\" folder and preprocess images\n",
    "folder_path = os.path.join(\"/content/drive/MyDrive/Dataset/NORMAL\")\n",
    "for filename in os.listdir(folder_path):\n",
    "    # Load image from file\n",
    "    img_path = os.path.join(folder_path, filename)\n",
    "    img = cv2.imread(img_path)\n",
    "    # Preprocess image and append to data and labels arrays\n",
    "    img = preprocess_images(img)\n",
    "    data.append(img)\n",
    "    labels.append(0)\n",
    "\n",
    "# Convert data and labels arrays to numpy arrays\n",
    "data = np.array(data)\n",
    "labels = np.array(labels)\n",
    "\n",
    "# Split data into training and testing sets\n",
    "X_train, X_test, y_train, y_test = train_test_split(data, labels, test_size=0.2, random_state=42)\n",
    "\n",
    "# Extract features using PCA\n",
    "from sklearn.decomposition import PCA\n",
    "pca = PCA(n_components=100)\n",
    "X_train = pca.fit_transform(X_train)\n",
    "X_test = pca.transform(X_test)\n",
    "\n",
    "# Train SVM classifier\n",
    "clf = svm.SVC(kernel='linear', C=1.0, random_state=42)\n",
    "clf.fit(X_train, y_train)\n",
    "\n",
    "# Make predictions on testing set\n",
    "y_pred = clf.predict(X_test)\n"
   ]
  },
  {
   "cell_type": "code",
   "execution_count": null,
   "metadata": {
    "colab": {
     "base_uri": "https://localhost:8080/"
    },
    "id": "OVX-DXRLfYiL",
    "outputId": "c59798d1-127d-4836-e022-2b8eda3fa5b7"
   },
   "outputs": [
    {
     "name": "stdout",
     "output_type": "stream",
     "text": [
      "Classification Report:\n",
      "              precision    recall  f1-score   support\n",
      "\n",
      "           0       0.99      0.99      0.99       388\n",
      "           1       0.99      0.98      0.98       260\n",
      "\n",
      "    accuracy                           0.99       648\n",
      "   macro avg       0.99      0.99      0.99       648\n",
      "weighted avg       0.99      0.99      0.99       648\n",
      "\n",
      "Accuracy: 98.77%\n"
     ]
    }
   ],
   "source": [
    "\n",
    "# Evaluate performance\n",
    "print(\"Classification Report:\")\n",
    "print(classification_report(y_test, y_pred))\n",
    "\n",
    "print(\"Accuracy: {:.2f}%\".format(accuracy_score(y_test, y_pred)*100))"
   ]
  },
  {
   "cell_type": "code",
   "execution_count": null,
   "metadata": {
    "colab": {
     "base_uri": "https://localhost:8080/"
    },
    "id": "TSEvFShwZkXB",
    "outputId": "a94e2bbd-bb78-46a9-b07d-d4b45754ecd2"
   },
   "outputs": [
    {
     "name": "stdout",
     "output_type": "stream",
     "text": [
      "Mounted at /content/drive\n"
     ]
    }
   ],
   "source": [
    "from google.colab import drive\n",
    "drive.mount('/content/drive')"
   ]
  }
 ],
 "metadata": {
  "colab": {
   "gpuType": "T4",
   "provenance": []
  },
  "gpuClass": "standard",
  "kernelspec": {
   "display_name": "Python 3 (ipykernel)",
   "language": "python",
   "name": "python3"
  },
  "language_info": {
   "codemirror_mode": {
    "name": "ipython",
    "version": 3
   },
   "file_extension": ".py",
   "mimetype": "text/x-python",
   "name": "python",
   "nbconvert_exporter": "python",
   "pygments_lexer": "ipython3",
   "version": "3.10.9"
  }
 },
 "nbformat": 4,
 "nbformat_minor": 1
}
