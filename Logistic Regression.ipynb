{
 "cells": [
  {
   "cell_type": "code",
   "execution_count": 1,
   "id": "5b642f22",
   "metadata": {},
   "outputs": [],
   "source": [
    "import os\n",
    "import cv2\n",
    "import numpy as np\n",
    "from sklearn.model_selection import train_test_split\n",
    "from sklearn.linear_model import LogisticRegression\n"
   ]
  },
  {
   "cell_type": "code",
   "execution_count": 2,
   "id": "70fef426",
   "metadata": {},
   "outputs": [],
   "source": [
    "import os \n",
    "import cv2"
   ]
  },
  {
   "cell_type": "code",
   "execution_count": 3,
   "id": "1e71eeed",
   "metadata": {},
   "outputs": [],
   "source": [
    "# Define the path to the COVID-19 X-ray folder and the non-COVID-19 X-ray folder\n",
    "covid_folder = \"C:/Users/User/ML project/COVID19-xray/COVID\"\n",
    "non_covid_folder = \"C:/Users/User/ML project/NORMALXray/NORMALc\""
   ]
  },
  {
   "cell_type": "code",
   "execution_count": 4,
   "id": "ff8e1811",
   "metadata": {},
   "outputs": [],
   "source": [
    "    # Define the size of the images after preprocessing\n",
    "IMG_SIZE = (224, 224)"
   ]
  },
  {
   "cell_type": "code",
   "execution_count": 5,
   "id": "afb7394a",
   "metadata": {},
   "outputs": [],
   "source": [
    "covid_images = []\n",
    "for filename in os.listdir(covid_folder):\n",
    "    img_path = os.path.join(covid_folder, filename)\n",
    "    img = cv2.imread(img_path, cv2.IMREAD_GRAYSCALE)\n",
    "    img = cv2.resize(img, IMG_SIZE)\n",
    "    img = np.expand_dims(img, axis=-1)  \n",
    "covid_images = np.array(covid_images)"
   ]
  },
  {
   "cell_type": "code",
   "execution_count": 7,
   "id": "e572bcad",
   "metadata": {},
   "outputs": [],
   "source": [
    "# Load the non-COVID-19 X-ray images and preprocess them\n",
    "non_covid_images = []\n",
    "for filename in os.listdir(non_covid_folder):\n",
    "    img_path = os.path.join(non_covid_folder, filename)\n",
    "    img = cv2.imread(img_path, cv2.IMREAD_GRAYSCALE)\n",
    "    img = cv2.resize(img, IMG_SIZE)\n",
    "    img = np.expand_dims(img, axis=-1)  \n",
    "    non_covid_images.append(img)\n",
    "non_covid_images = np.array(non_covid_images)"
   ]
  },
  {
   "cell_type": "code",
   "execution_count": 8,
   "id": "2a2f14b2",
   "metadata": {},
   "outputs": [
    {
     "ename": "ValueError",
     "evalue": "all the input arrays must have same number of dimensions, but the array at index 0 has 1 dimension(s) and the array at index 1 has 4 dimension(s)",
     "output_type": "error",
     "traceback": [
      "\u001b[1;31m---------------------------------------------------------------------------\u001b[0m",
      "\u001b[1;31mValueError\u001b[0m                                Traceback (most recent call last)",
      "Cell \u001b[1;32mIn[8], line 2\u001b[0m\n\u001b[0;32m      1\u001b[0m \u001b[38;5;66;03m# Combine the COVID-19 and non-COVID-19 X-ray images into a single dataset\u001b[39;00m\n\u001b[1;32m----> 2\u001b[0m X \u001b[38;5;241m=\u001b[39m \u001b[43mnp\u001b[49m\u001b[38;5;241;43m.\u001b[39;49m\u001b[43mconcatenate\u001b[49m\u001b[43m(\u001b[49m\u001b[43m[\u001b[49m\u001b[43mcovid_images\u001b[49m\u001b[43m,\u001b[49m\u001b[43m \u001b[49m\u001b[43mnon_covid_images\u001b[49m\u001b[43m]\u001b[49m\u001b[43m,\u001b[49m\u001b[43m \u001b[49m\u001b[43maxis\u001b[49m\u001b[38;5;241;43m=\u001b[39;49m\u001b[38;5;241;43m0\u001b[39;49m\u001b[43m)\u001b[49m\n",
      "File \u001b[1;32m<__array_function__ internals>:180\u001b[0m, in \u001b[0;36mconcatenate\u001b[1;34m(*args, **kwargs)\u001b[0m\n",
      "\u001b[1;31mValueError\u001b[0m: all the input arrays must have same number of dimensions, but the array at index 0 has 1 dimension(s) and the array at index 1 has 4 dimension(s)"
     ]
    }
   ],
   "source": [
    "# Combine the COVID-19 and non-COVID-19 X-ray images into a single dataset\n",
    "X = np.concatenate([covid_images, non_covid_images], axis=0)"
   ]
  },
  {
   "cell_type": "code",
   "execution_count": null,
   "id": "d6c1267e",
   "metadata": {},
   "outputs": [],
   "source": [
    "# Create labels for the dataset (1 for COVID-19 X-rays, 0 for non-COVID-19 X-rays)\n",
    "y = np.concatenate([np.ones(len(covid_images)), np.zeros(len(non_covid_images))])"
   ]
  },
  {
   "cell_type": "code",
   "execution_count": null,
   "id": "ef301334",
   "metadata": {},
   "outputs": [],
   "source": [
    "# Split the dataset into training and testing sets\n",
    "X_train, X_test, y_train, y_test = train_test_split(X, y, test_size=0.2, random_state=44)"
   ]
  },
  {
   "cell_type": "code",
   "execution_count": null,
   "id": "0a6abd63",
   "metadata": {},
   "outputs": [],
   "source": [
    "# Flatten the image data(Feature Extraction)\n",
    "X_train = X_train.reshape(X_train.shape[0], -1)\n",
    "X_test = X_test.reshape(X_test.shape[0], -1)"
   ]
  },
  {
   "cell_type": "code",
   "execution_count": 9,
   "id": "80594c19",
   "metadata": {},
   "outputs": [
    {
     "ename": "NameError",
     "evalue": "name 'X_train' is not defined",
     "output_type": "error",
     "traceback": [
      "\u001b[1;31m---------------------------------------------------------------------------\u001b[0m",
      "\u001b[1;31mNameError\u001b[0m                                 Traceback (most recent call last)",
      "Cell \u001b[1;32mIn[9], line 5\u001b[0m\n\u001b[0;32m      3\u001b[0m \u001b[38;5;66;03m# Perform feature selection using chi-squared test\u001b[39;00m\n\u001b[0;32m      4\u001b[0m selector \u001b[38;5;241m=\u001b[39m SelectKBest(chi2, k\u001b[38;5;241m=\u001b[39m\u001b[38;5;241m100\u001b[39m)  \u001b[38;5;66;03m# Select the top 100 features\u001b[39;00m\n\u001b[1;32m----> 5\u001b[0m X_train \u001b[38;5;241m=\u001b[39m selector\u001b[38;5;241m.\u001b[39mfit_transform(\u001b[43mX_train\u001b[49m, y_train)\n\u001b[0;32m      6\u001b[0m X_test \u001b[38;5;241m=\u001b[39m selector\u001b[38;5;241m.\u001b[39mtransform(X_test)\n",
      "\u001b[1;31mNameError\u001b[0m: name 'X_train' is not defined"
     ]
    }
   ],
   "source": [
    "# Apply feature selection\n",
    "from sklearn.feature_selection import SelectKBest,chi2\n",
    "# Perform feature selection using chi-squared test\n",
    "selector = SelectKBest(chi2, k=100)  # Select the top 100 features\n",
    "X_train = selector.fit_transform(X_train, y_train)\n",
    "X_test = selector.transform(X_test)"
   ]
  },
  {
   "cell_type": "code",
   "execution_count": null,
   "id": "c3f1ae1f",
   "metadata": {},
   "outputs": [],
   "source": [
    "# Train a logistic regression model on the training data\n",
    "model = LogisticRegression()\n",
    "model.fit(X_train, y_train)"
   ]
  },
  {
   "cell_type": "code",
   "execution_count": null,
   "id": "305b3bab",
   "metadata": {},
   "outputs": [],
   "source": [
    "# Evaluate the model on the testing data\n",
    "print(\"LogistiR model train_accuracy(in %):\", model.score(X_train, y_train)*100)\n"
   ]
  },
  {
   "cell_type": "code",
   "execution_count": null,
   "id": "2d6ad64c",
   "metadata": {},
   "outputs": [],
   "source": [
    "# Evaluate the model on the testing data\n",
    "print(\"LogistiR model test_accuracy(in %):\", model.score(X_test, y_test)*100)\n"
   ]
  },
  {
   "cell_type": "code",
   "execution_count": null,
   "id": "e80eb8c9",
   "metadata": {},
   "outputs": [],
   "source": [
    "y_pred = model.predict(X_test)\n",
    "print(\"Classification Report:\")\n",
    "print(classification_report(y_test, y_pred))\n",
    "\n",
    "print(\"Accuracy: {:.2f}%\".format(accuracy_score(y_test, y_pred)*100))"
   ]
  },
  {
   "cell_type": "markdown",
   "id": "9e807e09",
   "metadata": {},
   "source": [
    "Naive bayes"
   ]
  },
  {
   "cell_type": "code",
   "execution_count": null,
   "id": "c0330939",
   "metadata": {},
   "outputs": [],
   "source": [
    "# training the model on training set\n",
    "from sklearn.naive_bayes import GaussianNB\n",
    "gnb = GaussianNB()\n",
    "Nmodeel = gnb.fit(X_train, y_train)\n",
    "\n",
    "print(\"Gaussian Naive Bayes model test_accuracy(in %):\", Nmodeel.score(X_test, y_test)*100)\n",
    "print(\"Gaussian Naive Bayes model train_accuracy(in %):\", Nmodeel.score(X_train, y_train)*100)\n",
    "\n",
    "y_pred1 = Nmodeel.predict(X_test)\n",
    "print(\"Classification Report:\")\n",
    "print(classification_report(y_test, y_pred1))\n",
    "\n",
    "print(\"Accuracy: {:.2f}%\".format(accuracy_score(y_test, y_pred1)*100))"
   ]
  },
  {
   "cell_type": "markdown",
   "id": "2e272fe4",
   "metadata": {},
   "source": [
    "Decision Tree"
   ]
  },
  {
   "cell_type": "code",
   "execution_count": null,
   "id": "c9783f1e",
   "metadata": {},
   "outputs": [],
   "source": []
  },
  {
   "cell_type": "code",
   "execution_count": null,
   "id": "212bda4f",
   "metadata": {},
   "outputs": [],
   "source": []
  },
  {
   "cell_type": "code",
   "execution_count": null,
   "id": "efc3d0bd",
   "metadata": {},
   "outputs": [],
   "source": []
  },
  {
   "cell_type": "markdown",
   "id": "b87a575c",
   "metadata": {},
   "source": [
    "SVM"
   ]
  },
  {
   "cell_type": "code",
   "execution_count": null,
   "id": "867b6be3",
   "metadata": {},
   "outputs": [],
   "source": [
    "# Train SVM classifier\n",
    "from sklearn import svm\n",
    "clf = svm.SVC(kernel='linear', C=1.0, random_state=42)\n",
    "SVMmodel = clf.fit(X_train, y_train)\n",
    "print(\"SVM model train_accuracy(in %):\", SVMmodel.score(X_train, y_train)*100)\n",
    "print(\"SVM model test_accuracy(in %):\", SVMmodel.score(X_test, y_test)*100)"
   ]
  },
  {
   "cell_type": "markdown",
   "id": "4f266241",
   "metadata": {},
   "source": [
    "Testing unseen data"
   ]
  },
  {
   "cell_type": "code",
   "execution_count": null,
   "id": "20de6200",
   "metadata": {},
   "outputs": [],
   "source": [
    "# making predictions on the testing set\n",
    "y_pred = model.predict(X_test)\n",
    " \n",
    "# comparing actual response values (y_test) with predicted response values (y_pred)"
   ]
  },
  {
   "cell_type": "code",
   "execution_count": null,
   "id": "5805e9f3",
   "metadata": {},
   "outputs": [],
   "source": [
    "# Preprocess the new images\n",
    "new_image_folder = 'C:/Users/User/ML project/Model test'\n",
    "preprocessed_images = preprocess_images(new_image_folder)\n",
    "\n",
    "# Extract features from the preprocessed images\n",
    "features = extract_features(preprocessed_images)\n",
    "\n",
    "# Apply feature selection if used during training\n",
    "selected_features = apply_feature_selection(features)\n",
    "\n",
    "# Transform the features into the appropriate format\n",
    "transformed_features = transform_features(selected_features)\n",
    "\n",
    "# Make predictions on the new image data\n",
    "predictions = model.predict(transformed_features)\n"
   ]
  },
  {
   "cell_type": "markdown",
   "id": "f0523734",
   "metadata": {},
   "source": [
    "Pipeline"
   ]
  },
  {
   "cell_type": "code",
   "execution_count": null,
   "id": "ce2203fe",
   "metadata": {},
   "outputs": [],
   "source": [
    "# Define the preprocessing steps\n",
    "preprocessing_steps = [\n",
    "    ('scaling', StandardScaler()),  # Perform standardization\n",
    "    ('feature_selection', SelectKBest(k=100))  # Select top 100 features\n",
    "]"
   ]
  },
  {
   "cell_type": "code",
   "execution_count": null,
   "id": "4e55016b",
   "metadata": {},
   "outputs": [],
   "source": [
    "# Define the classifier\n",
    "classifier = LogisticRegression()"
   ]
  },
  {
   "cell_type": "code",
   "execution_count": null,
   "id": "ae7922a7",
   "metadata": {},
   "outputs": [],
   "source": [
    "# Create the pipeline\n",
    "pipeline = Pipeline(preprocessing_steps + [('classifier', classifier)])"
   ]
  },
  {
   "cell_type": "code",
   "execution_count": null,
   "id": "7b71ad6b",
   "metadata": {},
   "outputs": [],
   "source": [
    "# Fit the pipeline to the training data\n",
    "pipeline.fit(X_train, y_train)\n"
   ]
  },
  {
   "cell_type": "code",
   "execution_count": null,
   "id": "8b90a11d",
   "metadata": {},
   "outputs": [],
   "source": [
    "# Evaluate the pipeline on the testing data\n",
    "accuracy = pipeline.score(X_test, y_test)\n",
    "print(\"Accuracy:\", accuracy)"
   ]
  }
 ],
 "metadata": {
  "kernelspec": {
   "display_name": "Python 3 (ipykernel)",
   "language": "python",
   "name": "python3"
  },
  "language_info": {
   "codemirror_mode": {
    "name": "ipython",
    "version": 3
   },
   "file_extension": ".py",
   "mimetype": "text/x-python",
   "name": "python",
   "nbconvert_exporter": "python",
   "pygments_lexer": "ipython3",
   "version": "3.10.9"
  }
 },
 "nbformat": 4,
 "nbformat_minor": 5
}
